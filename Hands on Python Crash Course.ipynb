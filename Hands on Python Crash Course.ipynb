{
 "cells": [
  {
   "cell_type": "code",
   "execution_count": null,
   "metadata": {},
   "outputs": [],
   "source": [
    "# python variables, number types, and IDEs\n",
    "\n",
    "a = 10\n",
    "b = 1.598\n",
    "c = .1987\n",
    "d = 100.579"
   ]
  },
  {
   "cell_type": "code",
   "execution_count": null,
   "metadata": {
    "scrolled": true
   },
   "outputs": [],
   "source": [
    "# print()\n",
    "# ----------------------------------------------------------------\n",
    "# the print() function in python3.0 displays output to the console\n",
    "\n",
    "print(a)\n",
    "print(b)\n",
    "print(c)\n",
    "print(d)\n"
   ]
  },
  {
   "cell_type": "code",
   "execution_count": null,
   "metadata": {},
   "outputs": [],
   "source": [
    "# How to run a python file\n",
    "# In PyCharm click Run -> Run -> Name of the file\n",
    "# Or, use the pycharm shortcut: Alt+Shift+F10"
   ]
  },
  {
   "cell_type": "code",
   "execution_count": 8,
   "metadata": {},
   "outputs": [
    {
     "name": "stdout",
     "output_type": "stream",
     "text": [
      "30\n",
      "5\n",
      "10\n"
     ]
    }
   ],
   "source": [
    "# swapping variables\n",
    "\n",
    "x = 5\n",
    "y = 10\n",
    "z = 30\n",
    "x, y, z = z, x, y\n",
    "print(x)\n",
    "print(y)\n",
    "print(z)\n"
   ]
  },
  {
   "cell_type": "code",
   "execution_count": 11,
   "metadata": {},
   "outputs": [],
   "source": [
    "# Variable naming tips: PEP 8 - Style Guide for Python Code\n",
    "    # var names can have letters, numbers, and underscores\n",
    "    # can't use a reserved word like 'print'\n",
    "    # try and be as descriptive as possible. Makes code more maintainable\n",
    "    # python IS case sensitive.\n",
    "    # put constants in all CAPS: DAYS_OF_WEEK = 7"
   ]
  },
  {
   "cell_type": "code",
   "execution_count": 10,
   "metadata": {},
   "outputs": [
    {
     "name": "stdout",
     "output_type": "stream",
     "text": [
      "20\n",
      "40\n",
      "100\n",
      "400\n",
      "1.8\n",
      "2\n",
      "1\n",
      "10000000000.0\n"
     ]
    }
   ],
   "source": [
    "# PYTHON MATH OPERATORS: +, -, *, **,  / , //, %\n",
    "# -----------------------------------------------\n",
    "# python can be used as a 'souped-up' calculator\n",
    "\n",
    "print(10 + 10)\n",
    "print(50 - 10)\n",
    "print(10 * 10)\n",
    "print(20 ** 2)\n",
    "print(9 / 5)\n",
    "print(8 // 3)\n",
    "print(11 % 5)\n",
    "print(1e10)"
   ]
  },
  {
   "cell_type": "code",
   "execution_count": 12,
   "metadata": {},
   "outputs": [
    {
     "name": "stdout",
     "output_type": "stream",
     "text": [
      "19.931568569324174\n",
      "3.0\n",
      "-0.23888487632000044\n",
      "26.828366297560617\n"
     ]
    }
   ],
   "source": [
    "# For more advanced math operations use\n",
    "# The builtin 'math' module\n",
    "\n",
    "import math\n",
    "\n",
    "print(math.log(1000000, 2))\n",
    "print(math.sqrt(9))\n",
    "print(math.cos(100) + math.sin(90) + math.tan(90))\n",
    "print(math.pi**2 * math.e)"
   ]
  },
  {
   "cell_type": "code",
   "execution_count": 13,
   "metadata": {},
   "outputs": [
    {
     "name": "stdout",
     "output_type": "stream",
     "text": [
      "L\n",
      " \n",
      "A\n",
      "s\n",
      "11\n",
      "s\n",
      "john doe public\n",
      "Los\n",
      "Angeles\n",
      "Los Angeles\n",
      "LsAgls\n",
      "selegnA soL\n"
     ]
    }
   ],
   "source": [
    "# STRINGS\n",
    "# --------------------------------------\n",
    "# Think SMS text, Facebook chat, MS Word, emails, or even emojis\n",
    "# Strings can be single quote (''), double quote (\"\") or triple quote (\"\"\")\n",
    "\n",
    "city = 'Los Angeles'\n",
    "\n",
    "# indexing: python is a zero based indexed language\n",
    "print(city[0])  # L\n",
    "print(city[3])  # empty space is a string!\n",
    "print(city[4])  # capital A\n",
    "print(city[-1]) # negative indices are permitted\n",
    "\n",
    "# len() function: gets the length of the string\n",
    "print(len(city))    # 11\n",
    "print(city[len(city)-1]) # s\n",
    "\n",
    "# concatenation: the combining of multiple strings\n",
    "print('john ' + 'doe ' + 'public')\n",
    "\n",
    "# slicing: retrieves ranges of a string\n",
    "print(city[0:3])   # Los\n",
    "print(city[4:11])  # Angeles\n",
    "print(city[::])    # Los Angeles\n",
    "print(city[::2])   # LsAgls\n",
    "print(city[::-1])  # selegnA soL"
   ]
  },
  {
   "cell_type": "code",
   "execution_count": 14,
   "metadata": {},
   "outputs": [
    {
     "name": "stdout",
     "output_type": "stream",
     "text": [
      "True\n",
      "False\n",
      "True\n",
      "False\n",
      "False\n",
      "False\n",
      "True\n",
      "True\n",
      "False\n",
      "True\n",
      "False\n",
      "True\n",
      "True\n",
      "False\n"
     ]
    }
   ],
   "source": [
    "# BOOLEAN ALGEBRA: True or False\n",
    "# ----------------------------------------\n",
    "# Should understand truth tables\n",
    "# Used to determine control flow: if/elif/else statements\n",
    "# Describe boolean type by asking true or false questions\n",
    "\n",
    "is_the_sky_blue = True\n",
    "do_cats_bark = False\n",
    "\n",
    "print(is_the_sky_blue)\n",
    "print(do_cats_bark)\n",
    "\n",
    "# The 'and' truth table\n",
    "# 'and' evaluates to false unless both operands are False\n",
    "\n",
    "print(True and True)\n",
    "print(True and False)\n",
    "print(False and False)\n",
    "print(False and True)\n",
    "\n",
    "# or evaluates to true with at least one true operand\n",
    "print(True or True)\n",
    "print(True or False)\n",
    "print(False or False)\n",
    "print(False or True)\n",
    "\n",
    "# xor evaluates to true\n",
    "print(True ^ True)\n",
    "print(True ^ False)\n",
    "print(False ^ True)\n",
    "print(False ^ False)\n"
   ]
  },
  {
   "cell_type": "code",
   "execution_count": 1,
   "metadata": {
    "collapsed": true
   },
   "outputs": [
    {
     "name": "stdout",
     "output_type": "stream",
     "text": [
      "5\n",
      "F!\n",
      "state = nice\n"
     ]
    }
   ],
   "source": [
    "# CONTROL FLOW IN PYTHON\n",
    "# -----------------------\n",
    "# if/else statement\n",
    "\n",
    "x, y, z = 5, 10, 15\n",
    "if x < y and z > y:\n",
    "    print(x)\n",
    "else:\n",
    "    print(y)\n",
    "\n",
    "# elif statement\n",
    "from random import randint\n",
    "\n",
    "# picks a random number in range 1...100\n",
    "grade = randint(1, 100)\n",
    "if grade >= 90 <= 100:\n",
    "    print('A')\n",
    "elif grade >= 80 <= 89.9:\n",
    "    print('B')\n",
    "elif grade >= 70 <= 79.9:\n",
    "    print('C')\n",
    "elif grade >= 60 <= 69.9:\n",
    "    print('D')\n",
    "else:\n",
    "    print('F!')\n",
    "\n",
    "# ternary statement\n",
    "mood = True\n",
    "state = 'nice' if mood else 'not so nice'\n",
    "print('state = {}'.format(state))"
   ]
  },
  {
   "cell_type": "code",
   "execution_count": null,
   "metadata": {},
   "outputs": [],
   "source": [
    "# ITERATION IN PYTHON\n",
    "# ----------------------\n",
    "# allows us to compute repeated tasks.\n",
    "# computers are amazing at this!\n",
    "\n",
    "# WHILE LOOP\n",
    "\n",
    "# sets while loop starting at\n",
    "i = 0\n",
    "# condition\n",
    "while i < 10:\n",
    "    print('i =  {}'.format(i, end=' '))  # print value of i, end='' means print on same line\n",
    "    i += 1  # increment i\n",
    "\n",
    "# sum numbers from 1...1000 in nanoseconds\n",
    "i, sum = 0, 0\n",
    "while i < 1000:\n",
    "    i += 1\n",
    "    sum += i\n",
    "print('The summation of 1...1000 = {}'.format(sum))\n",
    "\n",
    "# for loop\n",
    "for x in range(10):\n",
    "    print(x, end=' ')\n",
    "\n",
    "# fibonacci number\n",
    "print()\n",
    "x, y = 0, 1\n",
    "for z in range(10):\n",
    "    next = x + y\n",
    "    x, y = y, next\n",
    "print('12th fib number = {}'.format(next))"
   ]
  },
  {
   "cell_type": "code",
   "execution_count": 2,
   "metadata": {},
   "outputs": [
    {
     "name": "stdout",
     "output_type": "stream",
     "text": [
      "50\n",
      "82.5\n",
      "2000\n",
      "multiply= 24\n",
      "a 5\n",
      "b 10\n",
      "c 15\n"
     ]
    }
   ],
   "source": [
    "# creating functions\n",
    "# a functions maps a set of inputs to outputs.\n",
    "# You can create your own using the 'def' keyword in python\n",
    "\n",
    "def scale_number(num, amount):\n",
    "    return num * amount\n",
    "\n",
    "print(scale_number(10, 5))\n",
    "\n",
    "\n",
    "# keyword arguments\n",
    "\n",
    "def area_triangle(height=11, width=7.5):\n",
    "    return height * width\n",
    "\n",
    "\n",
    "print(area_triangle())\n",
    "print(area_triangle(height=20, width=100))\n",
    "\n",
    "# can accept an arbitrary number of input\n",
    "\n",
    "\n",
    "def multiply(*args, y=1):\n",
    "\n",
    "    for x in range(len(args)):\n",
    "        y *= args[x]\n",
    "    return y\n",
    "\n",
    "print('multiply =', multiply(1, 2, 3, 4))\n",
    "\n",
    "def key_value(**kwargs):\n",
    "    for key, value in kwargs.items():\n",
    "        print('{} {}'.format(key, value))\n",
    "\n",
    "key_value(a=5, b=10, c=15)\n"
   ]
  },
  {
   "cell_type": "code",
   "execution_count": 7,
   "metadata": {},
   "outputs": [
    {
     "name": "stdout",
     "output_type": "stream",
     "text": [
      "(5, 10)\n",
      "(100, 200)\n"
     ]
    }
   ],
   "source": [
    "# classes and objects\n",
    "# classes are used to model real world objects \n",
    "\n",
    "class Point:\n",
    "    \"\"\"Simple class in python. This is an example\n",
    "    of a docstring, or a string that's used like a\n",
    "    comment to document a segment of code.\"\"\"\n",
    "\n",
    "    def __init__(self, x, y):\n",
    "        self.x = x\n",
    "        self.y = y\n",
    "\n",
    "    def get_x(self):\n",
    "        return self.x\n",
    "\n",
    "    def get_y(self):\n",
    "        return self.y\n",
    "\n",
    "    def set_x(self, new_x):\n",
    "        self.x = new_x\n",
    "\n",
    "    def set_y(self, new_y):\n",
    "        self.y = new_y\n",
    "\n",
    "    def get_point(self):\n",
    "        return self.x, self.y\n",
    "    \n",
    "p = Point(5, 10)\n",
    "print(p.get_point())\n",
    "p.set_x(100)\n",
    "p.set_y(200)\n",
    "print(p.get_point())\n"
   ]
  },
  {
   "cell_type": "code",
   "execution_count": 5,
   "metadata": {},
   "outputs": [
    {
     "name": "stdout",
     "output_type": "stream",
     "text": [
      "10\n",
      "8\n",
      "6\n",
      "4\n",
      "2\n",
      "0\n",
      "100\n",
      "1\n",
      "3\n",
      "5\n",
      "7\n",
      "\n",
      "(1, 3, 5, 7)\n",
      "a 0\n",
      "e 0\n",
      "i 0\n",
      "o 0\n",
      "u 0\n",
      "['a', 'b']\n"
     ]
    }
   ],
   "source": [
    "# python has four builtin data structure types \n",
    "# list are mutable collection of objects\n",
    "evens = [0, 2, 4, 6, 8, 10]\n",
    "# reverses the list\n",
    "evens.reverse()\n",
    "# adds an object to the list\n",
    "evens.append(100)\n",
    "# merges another list with the list\n",
    "evens.extend([1, 3, 5, 7, 9])\n",
    "# pops an item from the list\n",
    "evens.pop()\n",
    "# iterating over a list\n",
    "for x in evens:\n",
    "    print(x)\n",
    "print()\n",
    "\n",
    "\n",
    "# tuples\n",
    "# immutable sequence\n",
    "nums = (1, 3, 5, 7)\n",
    "print(nums)\n",
    "\n",
    "# dictionaries\n",
    "# key/value pairs, or associative arrays in some languages.\n",
    "vowels = {'a': 0, 'e': 0, 'i': 0, 'o': 0, 'u': 0}\n",
    "for key, value in vowels.items():\n",
    "    print(key, value)\n",
    "\n",
    "\n",
    "# sets\n",
    "# stores unique items\n",
    "letters = {'a', 'a', 'a', 'b', 'b', 'b'}\n",
    "print(sorted(letters))\n"
   ]
  },
  {
   "cell_type": "code",
   "execution_count": null,
   "metadata": {},
   "outputs": [],
   "source": []
  }
 ],
 "metadata": {
  "kernelspec": {
   "display_name": "Python 3",
   "language": "python",
   "name": "python3"
  },
  "language_info": {
   "codemirror_mode": {
    "name": "ipython",
    "version": 3
   },
   "file_extension": ".py",
   "mimetype": "text/x-python",
   "name": "python",
   "nbconvert_exporter": "python",
   "pygments_lexer": "ipython3",
   "version": "3.7.0"
  }
 },
 "nbformat": 4,
 "nbformat_minor": 2
}
